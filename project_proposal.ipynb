{
 "cells": [
  {
   "cell_type": "markdown",
   "id": "0b87cdd1-5ced-424c-83a7-87de37f4f1c7",
   "metadata": {},
   "source": [
    "Introduction:\n",
    "\n",
    "For our project proposal, we will be using is a modified version of the UCI Heart Disease dataset. The UCI Heart Disease dataset includes four databases of the countries: Cleveland, Hungary, Switzerland, and the VA Long Beach. We will be using Cleveland for our prediction because the dataframe contains sufficient observations. The Heart Disease Cleveland dataframe includes the variables: \"trestbps\" and \"thalach\", which we will be using to predict our variable of intrest: \"num\". In the dataframe, \"trestbps\" refers to the resting blood pressure on admission to the hospital measured in mm Hg, while \"thalach\" refers to maximum heart rate achieved measured in bps, and \"num\" means the diagnosis of heart disease with a value of: 0 means no heart disease, 1-4 means the levels of heart disease[1] (We can classify levels of heart disease as 1: Mild, 2: Moderate, 3: Severe 4: Life threatening)[2]. With these resources, we will be answering our question: Can we classify the extent of heart disease using resting blood pressure and maximum heart rate achieved.\n",
    "\n"
   ]
  }
 ],
 "metadata": {
  "kernelspec": {
   "display_name": "R",
   "language": "R",
   "name": "ir"
  },
  "language_info": {
   "codemirror_mode": "r",
   "file_extension": ".r",
   "mimetype": "text/x-r-source",
   "name": "R",
   "pygments_lexer": "r",
   "version": "4.3.1"
  }
 },
 "nbformat": 4,
 "nbformat_minor": 5
}
